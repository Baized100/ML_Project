{
 "cells": [
  {
   "cell_type": "code",
   "execution_count": 89,
   "id": "8593a180-b56f-406b-9e8f-c4dc458910e8",
   "metadata": {},
   "outputs": [],
   "source": [
    "li=[100,200,150,300,180,220]"
   ]
  },
  {
   "cell_type": "code",
   "execution_count": 90,
   "id": "70ddd994-fe86-4dbf-85c1-7adf61084b9d",
   "metadata": {},
   "outputs": [
    {
     "data": {
      "text/plain": [
       "[100, 200, 150, 300, 180, 220]"
      ]
     },
     "execution_count": 90,
     "metadata": {},
     "output_type": "execute_result"
    }
   ],
   "source": [
    "li"
   ]
  },
  {
   "cell_type": "code",
   "execution_count": 91,
   "id": "cd925d18-9237-4f2b-bb3f-15f826b86d0a",
   "metadata": {},
   "outputs": [
    {
     "data": {
      "text/html": [
       "<div>\n",
       "<style scoped>\n",
       "    .dataframe tbody tr th:only-of-type {\n",
       "        vertical-align: middle;\n",
       "    }\n",
       "\n",
       "    .dataframe tbody tr th {\n",
       "        vertical-align: top;\n",
       "    }\n",
       "\n",
       "    .dataframe thead th {\n",
       "        text-align: right;\n",
       "    }\n",
       "</style>\n",
       "<table border=\"1\" class=\"dataframe\">\n",
       "  <thead>\n",
       "    <tr style=\"text-align: right;\">\n",
       "      <th></th>\n",
       "      <th>cost</th>\n",
       "    </tr>\n",
       "  </thead>\n",
       "  <tbody>\n",
       "    <tr>\n",
       "      <th>0</th>\n",
       "      <td>100</td>\n",
       "    </tr>\n",
       "    <tr>\n",
       "      <th>1</th>\n",
       "      <td>200</td>\n",
       "    </tr>\n",
       "    <tr>\n",
       "      <th>2</th>\n",
       "      <td>150</td>\n",
       "    </tr>\n",
       "    <tr>\n",
       "      <th>3</th>\n",
       "      <td>300</td>\n",
       "    </tr>\n",
       "    <tr>\n",
       "      <th>4</th>\n",
       "      <td>180</td>\n",
       "    </tr>\n",
       "    <tr>\n",
       "      <th>5</th>\n",
       "      <td>220</td>\n",
       "    </tr>\n",
       "  </tbody>\n",
       "</table>\n",
       "</div>"
      ],
      "text/plain": [
       "   cost\n",
       "0   100\n",
       "1   200\n",
       "2   150\n",
       "3   300\n",
       "4   180\n",
       "5   220"
      ]
     },
     "execution_count": 91,
     "metadata": {},
     "output_type": "execute_result"
    }
   ],
   "source": [
    "import pandas as pd\n",
    "df=pd.DataFrame(li,columns=[\"cost\"])\n",
    "df\n",
    "                "
   ]
  },
  {
   "cell_type": "code",
   "execution_count": 92,
   "id": "7cea8c94-c2ac-45a6-b521-3f28b63685a3",
   "metadata": {},
   "outputs": [],
   "source": [
    "#Techniques to perform feature Transformation:\n",
    "#Normalization\n",
    "#standardlization\n",
    "#Log Transformation\n",
    "#Robust Scaler\n",
    "#Max Absolute Scaler"
   ]
  },
  {
   "cell_type": "code",
   "execution_count": 93,
   "id": "13384153-ca8c-4f34-bbac-40a178c66c5f",
   "metadata": {},
   "outputs": [],
   "source": [
    "#normalization"
   ]
  },
  {
   "cell_type": "code",
   "execution_count": 94,
   "id": "95908298-8472-452b-ace6-654077a2a799",
   "metadata": {},
   "outputs": [],
   "source": [
    "min_cost=df.cost.min()\n",
    "max_cost=df.cost.max()"
   ]
  },
  {
   "cell_type": "code",
   "execution_count": 95,
   "id": "8933ae5e-7a99-4fd3-8f34-abd3eb7dc2ce",
   "metadata": {},
   "outputs": [
    {
     "data": {
      "text/plain": [
       "100"
      ]
     },
     "execution_count": 95,
     "metadata": {},
     "output_type": "execute_result"
    }
   ],
   "source": [
    "min_cost"
   ]
  },
  {
   "cell_type": "code",
   "execution_count": 96,
   "id": "e01c63c2-bc2c-4a60-8e1c-c2a965540730",
   "metadata": {},
   "outputs": [
    {
     "data": {
      "text/plain": [
       "300"
      ]
     },
     "execution_count": 96,
     "metadata": {},
     "output_type": "execute_result"
    }
   ],
   "source": [
    "max_cost"
   ]
  },
  {
   "cell_type": "code",
   "execution_count": 97,
   "id": "bb61e524-db2c-428a-8b4e-09e3e9388bb1",
   "metadata": {},
   "outputs": [],
   "source": [
    "df[\"cost_norm_formula\"]=(df.cost-min_cost) /(max_cost-min_cost)"
   ]
  },
  {
   "cell_type": "code",
   "execution_count": 98,
   "id": "d0e4e585-c5cb-43a0-bb33-7c07fdba58f5",
   "metadata": {},
   "outputs": [
    {
     "data": {
      "text/html": [
       "<div>\n",
       "<style scoped>\n",
       "    .dataframe tbody tr th:only-of-type {\n",
       "        vertical-align: middle;\n",
       "    }\n",
       "\n",
       "    .dataframe tbody tr th {\n",
       "        vertical-align: top;\n",
       "    }\n",
       "\n",
       "    .dataframe thead th {\n",
       "        text-align: right;\n",
       "    }\n",
       "</style>\n",
       "<table border=\"1\" class=\"dataframe\">\n",
       "  <thead>\n",
       "    <tr style=\"text-align: right;\">\n",
       "      <th></th>\n",
       "      <th>cost</th>\n",
       "      <th>cost_norm_formula</th>\n",
       "    </tr>\n",
       "  </thead>\n",
       "  <tbody>\n",
       "    <tr>\n",
       "      <th>0</th>\n",
       "      <td>100</td>\n",
       "      <td>0.00</td>\n",
       "    </tr>\n",
       "    <tr>\n",
       "      <th>1</th>\n",
       "      <td>200</td>\n",
       "      <td>0.50</td>\n",
       "    </tr>\n",
       "    <tr>\n",
       "      <th>2</th>\n",
       "      <td>150</td>\n",
       "      <td>0.25</td>\n",
       "    </tr>\n",
       "    <tr>\n",
       "      <th>3</th>\n",
       "      <td>300</td>\n",
       "      <td>1.00</td>\n",
       "    </tr>\n",
       "    <tr>\n",
       "      <th>4</th>\n",
       "      <td>180</td>\n",
       "      <td>0.40</td>\n",
       "    </tr>\n",
       "  </tbody>\n",
       "</table>\n",
       "</div>"
      ],
      "text/plain": [
       "   cost  cost_norm_formula\n",
       "0   100               0.00\n",
       "1   200               0.50\n",
       "2   150               0.25\n",
       "3   300               1.00\n",
       "4   180               0.40"
      ]
     },
     "execution_count": 98,
     "metadata": {},
     "output_type": "execute_result"
    }
   ],
   "source": [
    "df.head()"
   ]
  },
  {
   "cell_type": "code",
   "execution_count": 99,
   "id": "c6b1cc3c-5985-4355-bd08-2e80fb41ec8f",
   "metadata": {},
   "outputs": [],
   "source": [
    "from sklearn.preprocessing import MinMaxScaler"
   ]
  },
  {
   "cell_type": "code",
   "execution_count": 100,
   "id": "fe419bb8-56eb-4d64-bb62-78d47eaa19c5",
   "metadata": {},
   "outputs": [],
   "source": [
    "mmx=MinMaxScaler()"
   ]
  },
  {
   "cell_type": "code",
   "execution_count": 101,
   "id": "b2702c19-62e9-411b-873c-635e5e5c9eea",
   "metadata": {},
   "outputs": [],
   "source": [
    "df[\"cost_norm_sklearn\"]=mmx.fit_transform(df[[\"cost\"]])"
   ]
  },
  {
   "cell_type": "code",
   "execution_count": 102,
   "id": "516c6a50-20a5-4f4c-8e8c-b18d81172382",
   "metadata": {},
   "outputs": [
    {
     "data": {
      "text/html": [
       "<div>\n",
       "<style scoped>\n",
       "    .dataframe tbody tr th:only-of-type {\n",
       "        vertical-align: middle;\n",
       "    }\n",
       "\n",
       "    .dataframe tbody tr th {\n",
       "        vertical-align: top;\n",
       "    }\n",
       "\n",
       "    .dataframe thead th {\n",
       "        text-align: right;\n",
       "    }\n",
       "</style>\n",
       "<table border=\"1\" class=\"dataframe\">\n",
       "  <thead>\n",
       "    <tr style=\"text-align: right;\">\n",
       "      <th></th>\n",
       "      <th>cost</th>\n",
       "      <th>cost_norm_formula</th>\n",
       "      <th>cost_norm_sklearn</th>\n",
       "    </tr>\n",
       "  </thead>\n",
       "  <tbody>\n",
       "    <tr>\n",
       "      <th>0</th>\n",
       "      <td>100</td>\n",
       "      <td>0.00</td>\n",
       "      <td>0.00</td>\n",
       "    </tr>\n",
       "    <tr>\n",
       "      <th>1</th>\n",
       "      <td>200</td>\n",
       "      <td>0.50</td>\n",
       "      <td>0.50</td>\n",
       "    </tr>\n",
       "    <tr>\n",
       "      <th>2</th>\n",
       "      <td>150</td>\n",
       "      <td>0.25</td>\n",
       "      <td>0.25</td>\n",
       "    </tr>\n",
       "    <tr>\n",
       "      <th>3</th>\n",
       "      <td>300</td>\n",
       "      <td>1.00</td>\n",
       "      <td>1.00</td>\n",
       "    </tr>\n",
       "    <tr>\n",
       "      <th>4</th>\n",
       "      <td>180</td>\n",
       "      <td>0.40</td>\n",
       "      <td>0.40</td>\n",
       "    </tr>\n",
       "  </tbody>\n",
       "</table>\n",
       "</div>"
      ],
      "text/plain": [
       "   cost  cost_norm_formula  cost_norm_sklearn\n",
       "0   100               0.00               0.00\n",
       "1   200               0.50               0.50\n",
       "2   150               0.25               0.25\n",
       "3   300               1.00               1.00\n",
       "4   180               0.40               0.40"
      ]
     },
     "execution_count": 102,
     "metadata": {},
     "output_type": "execute_result"
    }
   ],
   "source": [
    "df.head()"
   ]
  },
  {
   "cell_type": "code",
   "execution_count": 103,
   "id": "00c77acb-a749-4e65-8071-a179ea47ec22",
   "metadata": {},
   "outputs": [],
   "source": [
    "#Standardization"
   ]
  },
  {
   "cell_type": "code",
   "execution_count": 104,
   "id": "ee1fc9ee-38a2-435b-9006-961aa8e90101",
   "metadata": {},
   "outputs": [],
   "source": [
    "mean_cost=df.cost.mean()\n",
    "std=df.cost.std()"
   ]
  },
  {
   "cell_type": "code",
   "execution_count": 105,
   "id": "8f685052-9e12-4666-8d05-93c88f139040",
   "metadata": {},
   "outputs": [],
   "source": [
    "df[\"cost_std_manual\"]=(df[\"cost\"]-mean_cost)/std"
   ]
  },
  {
   "cell_type": "code",
   "execution_count": 106,
   "id": "30aca856-b963-4d1c-a5bb-b5a39d67fff5",
   "metadata": {},
   "outputs": [
    {
     "data": {
      "text/html": [
       "<div>\n",
       "<style scoped>\n",
       "    .dataframe tbody tr th:only-of-type {\n",
       "        vertical-align: middle;\n",
       "    }\n",
       "\n",
       "    .dataframe tbody tr th {\n",
       "        vertical-align: top;\n",
       "    }\n",
       "\n",
       "    .dataframe thead th {\n",
       "        text-align: right;\n",
       "    }\n",
       "</style>\n",
       "<table border=\"1\" class=\"dataframe\">\n",
       "  <thead>\n",
       "    <tr style=\"text-align: right;\">\n",
       "      <th></th>\n",
       "      <th>cost</th>\n",
       "      <th>cost_norm_formula</th>\n",
       "      <th>cost_norm_sklearn</th>\n",
       "      <th>cost_std_manual</th>\n",
       "    </tr>\n",
       "  </thead>\n",
       "  <tbody>\n",
       "    <tr>\n",
       "      <th>0</th>\n",
       "      <td>100</td>\n",
       "      <td>0.00</td>\n",
       "      <td>0.00</td>\n",
       "      <td>-1.354992</td>\n",
       "    </tr>\n",
       "    <tr>\n",
       "      <th>1</th>\n",
       "      <td>200</td>\n",
       "      <td>0.50</td>\n",
       "      <td>0.50</td>\n",
       "      <td>0.123181</td>\n",
       "    </tr>\n",
       "    <tr>\n",
       "      <th>2</th>\n",
       "      <td>150</td>\n",
       "      <td>0.25</td>\n",
       "      <td>0.25</td>\n",
       "      <td>-0.615906</td>\n",
       "    </tr>\n",
       "    <tr>\n",
       "      <th>3</th>\n",
       "      <td>300</td>\n",
       "      <td>1.00</td>\n",
       "      <td>1.00</td>\n",
       "      <td>1.601354</td>\n",
       "    </tr>\n",
       "    <tr>\n",
       "      <th>4</th>\n",
       "      <td>180</td>\n",
       "      <td>0.40</td>\n",
       "      <td>0.40</td>\n",
       "      <td>-0.172454</td>\n",
       "    </tr>\n",
       "  </tbody>\n",
       "</table>\n",
       "</div>"
      ],
      "text/plain": [
       "   cost  cost_norm_formula  cost_norm_sklearn  cost_std_manual\n",
       "0   100               0.00               0.00        -1.354992\n",
       "1   200               0.50               0.50         0.123181\n",
       "2   150               0.25               0.25        -0.615906\n",
       "3   300               1.00               1.00         1.601354\n",
       "4   180               0.40               0.40        -0.172454"
      ]
     },
     "execution_count": 106,
     "metadata": {},
     "output_type": "execute_result"
    }
   ],
   "source": [
    "df.head()"
   ]
  },
  {
   "cell_type": "code",
   "execution_count": 107,
   "id": "4ba215d2-0032-4b1b-bd6f-1e02430fdc0a",
   "metadata": {},
   "outputs": [],
   "source": [
    "#std2"
   ]
  },
  {
   "cell_type": "code",
   "execution_count": 108,
   "id": "6b2664df-bfb3-40a4-978b-e7e12c85e4a2",
   "metadata": {},
   "outputs": [],
   "source": [
    "from sklearn.preprocessing import StandardScaler\n",
    "scaler = StandardScaler()"
   ]
  },
  {
   "cell_type": "code",
   "execution_count": 109,
   "id": "dea26d46-e569-4dfa-970f-175904d1097c",
   "metadata": {},
   "outputs": [
    {
     "data": {
      "text/html": [
       "<div>\n",
       "<style scoped>\n",
       "    .dataframe tbody tr th:only-of-type {\n",
       "        vertical-align: middle;\n",
       "    }\n",
       "\n",
       "    .dataframe tbody tr th {\n",
       "        vertical-align: top;\n",
       "    }\n",
       "\n",
       "    .dataframe thead th {\n",
       "        text-align: right;\n",
       "    }\n",
       "</style>\n",
       "<table border=\"1\" class=\"dataframe\">\n",
       "  <thead>\n",
       "    <tr style=\"text-align: right;\">\n",
       "      <th></th>\n",
       "      <th>cost</th>\n",
       "      <th>cost_norm_formula</th>\n",
       "      <th>cost_norm_sklearn</th>\n",
       "      <th>cost_std_manual</th>\n",
       "    </tr>\n",
       "  </thead>\n",
       "  <tbody>\n",
       "    <tr>\n",
       "      <th>0</th>\n",
       "      <td>100</td>\n",
       "      <td>0.00</td>\n",
       "      <td>0.00</td>\n",
       "      <td>-1.354992</td>\n",
       "    </tr>\n",
       "    <tr>\n",
       "      <th>1</th>\n",
       "      <td>200</td>\n",
       "      <td>0.50</td>\n",
       "      <td>0.50</td>\n",
       "      <td>0.123181</td>\n",
       "    </tr>\n",
       "    <tr>\n",
       "      <th>2</th>\n",
       "      <td>150</td>\n",
       "      <td>0.25</td>\n",
       "      <td>0.25</td>\n",
       "      <td>-0.615906</td>\n",
       "    </tr>\n",
       "    <tr>\n",
       "      <th>3</th>\n",
       "      <td>300</td>\n",
       "      <td>1.00</td>\n",
       "      <td>1.00</td>\n",
       "      <td>1.601354</td>\n",
       "    </tr>\n",
       "    <tr>\n",
       "      <th>4</th>\n",
       "      <td>180</td>\n",
       "      <td>0.40</td>\n",
       "      <td>0.40</td>\n",
       "      <td>-0.172454</td>\n",
       "    </tr>\n",
       "    <tr>\n",
       "      <th>5</th>\n",
       "      <td>220</td>\n",
       "      <td>0.60</td>\n",
       "      <td>0.60</td>\n",
       "      <td>0.418816</td>\n",
       "    </tr>\n",
       "  </tbody>\n",
       "</table>\n",
       "</div>"
      ],
      "text/plain": [
       "   cost  cost_norm_formula  cost_norm_sklearn  cost_std_manual\n",
       "0   100               0.00               0.00        -1.354992\n",
       "1   200               0.50               0.50         0.123181\n",
       "2   150               0.25               0.25        -0.615906\n",
       "3   300               1.00               1.00         1.601354\n",
       "4   180               0.40               0.40        -0.172454\n",
       "5   220               0.60               0.60         0.418816"
      ]
     },
     "execution_count": 109,
     "metadata": {},
     "output_type": "execute_result"
    }
   ],
   "source": [
    "df"
   ]
  },
  {
   "cell_type": "code",
   "execution_count": 110,
   "id": "276d4f0e-0b42-4c98-bc16-7e5ff2c28b4f",
   "metadata": {},
   "outputs": [],
   "source": [
    "Std_dof=df.cost.std(ddof=0)"
   ]
  },
  {
   "cell_type": "code",
   "execution_count": 111,
   "id": "b25923c8-740f-4a70-ae46-069cd143ffd7",
   "metadata": {},
   "outputs": [
    {
     "data": {
      "text/plain": [
       "61.756691045496346"
      ]
     },
     "execution_count": 111,
     "metadata": {},
     "output_type": "execute_result"
    }
   ],
   "source": [
    "Std_dof"
   ]
  },
  {
   "cell_type": "code",
   "execution_count": 112,
   "id": "81aac1a2-8852-475c-81e7-1e256f35789a",
   "metadata": {},
   "outputs": [],
   "source": [
    "std_dof1=df.cost.std(ddof=1)"
   ]
  },
  {
   "cell_type": "code",
   "execution_count": 113,
   "id": "bb627292-9e2a-45d0-aa4a-9aac42c64fad",
   "metadata": {},
   "outputs": [
    {
     "data": {
      "text/plain": [
       "67.6510655249913"
      ]
     },
     "execution_count": 113,
     "metadata": {},
     "output_type": "execute_result"
    }
   ],
   "source": [
    "std_dof1"
   ]
  },
  {
   "cell_type": "code",
   "execution_count": 114,
   "id": "08b227bc-4131-48fb-9bcd-00a456447e1b",
   "metadata": {},
   "outputs": [
    {
     "data": {
      "text/html": [
       "<div>\n",
       "<style scoped>\n",
       "    .dataframe tbody tr th:only-of-type {\n",
       "        vertical-align: middle;\n",
       "    }\n",
       "\n",
       "    .dataframe tbody tr th {\n",
       "        vertical-align: top;\n",
       "    }\n",
       "\n",
       "    .dataframe thead th {\n",
       "        text-align: right;\n",
       "    }\n",
       "</style>\n",
       "<table border=\"1\" class=\"dataframe\">\n",
       "  <thead>\n",
       "    <tr style=\"text-align: right;\">\n",
       "      <th></th>\n",
       "      <th>cost</th>\n",
       "      <th>cost_norm_formula</th>\n",
       "      <th>cost_norm_sklearn</th>\n",
       "      <th>cost_std_manual</th>\n",
       "    </tr>\n",
       "  </thead>\n",
       "  <tbody>\n",
       "    <tr>\n",
       "      <th>0</th>\n",
       "      <td>100</td>\n",
       "      <td>0.00</td>\n",
       "      <td>0.00</td>\n",
       "      <td>-1.354992</td>\n",
       "    </tr>\n",
       "    <tr>\n",
       "      <th>1</th>\n",
       "      <td>200</td>\n",
       "      <td>0.50</td>\n",
       "      <td>0.50</td>\n",
       "      <td>0.123181</td>\n",
       "    </tr>\n",
       "    <tr>\n",
       "      <th>2</th>\n",
       "      <td>150</td>\n",
       "      <td>0.25</td>\n",
       "      <td>0.25</td>\n",
       "      <td>-0.615906</td>\n",
       "    </tr>\n",
       "    <tr>\n",
       "      <th>3</th>\n",
       "      <td>300</td>\n",
       "      <td>1.00</td>\n",
       "      <td>1.00</td>\n",
       "      <td>1.601354</td>\n",
       "    </tr>\n",
       "    <tr>\n",
       "      <th>4</th>\n",
       "      <td>180</td>\n",
       "      <td>0.40</td>\n",
       "      <td>0.40</td>\n",
       "      <td>-0.172454</td>\n",
       "    </tr>\n",
       "    <tr>\n",
       "      <th>5</th>\n",
       "      <td>220</td>\n",
       "      <td>0.60</td>\n",
       "      <td>0.60</td>\n",
       "      <td>0.418816</td>\n",
       "    </tr>\n",
       "  </tbody>\n",
       "</table>\n",
       "</div>"
      ],
      "text/plain": [
       "   cost  cost_norm_formula  cost_norm_sklearn  cost_std_manual\n",
       "0   100               0.00               0.00        -1.354992\n",
       "1   200               0.50               0.50         0.123181\n",
       "2   150               0.25               0.25        -0.615906\n",
       "3   300               1.00               1.00         1.601354\n",
       "4   180               0.40               0.40        -0.172454\n",
       "5   220               0.60               0.60         0.418816"
      ]
     },
     "execution_count": 114,
     "metadata": {},
     "output_type": "execute_result"
    }
   ],
   "source": [
    "df"
   ]
  },
  {
   "cell_type": "code",
   "execution_count": 115,
   "id": "cb106cbb-3d07-4429-8258-59c76783b88e",
   "metadata": {},
   "outputs": [],
   "source": [
    "df[\"cost_std_manual2\"]=(df[\"cost\"]-mean_cost) /std_dof1"
   ]
  },
  {
   "cell_type": "code",
   "execution_count": 116,
   "id": "cc010a97-6c0a-4960-a2eb-0d343c747d7b",
   "metadata": {},
   "outputs": [
    {
     "data": {
      "text/html": [
       "<div>\n",
       "<style scoped>\n",
       "    .dataframe tbody tr th:only-of-type {\n",
       "        vertical-align: middle;\n",
       "    }\n",
       "\n",
       "    .dataframe tbody tr th {\n",
       "        vertical-align: top;\n",
       "    }\n",
       "\n",
       "    .dataframe thead th {\n",
       "        text-align: right;\n",
       "    }\n",
       "</style>\n",
       "<table border=\"1\" class=\"dataframe\">\n",
       "  <thead>\n",
       "    <tr style=\"text-align: right;\">\n",
       "      <th></th>\n",
       "      <th>cost</th>\n",
       "      <th>cost_norm_formula</th>\n",
       "      <th>cost_norm_sklearn</th>\n",
       "      <th>cost_std_manual</th>\n",
       "      <th>cost_std_manual2</th>\n",
       "    </tr>\n",
       "  </thead>\n",
       "  <tbody>\n",
       "    <tr>\n",
       "      <th>0</th>\n",
       "      <td>100</td>\n",
       "      <td>0.00</td>\n",
       "      <td>0.00</td>\n",
       "      <td>-1.354992</td>\n",
       "      <td>-1.354992</td>\n",
       "    </tr>\n",
       "    <tr>\n",
       "      <th>1</th>\n",
       "      <td>200</td>\n",
       "      <td>0.50</td>\n",
       "      <td>0.50</td>\n",
       "      <td>0.123181</td>\n",
       "      <td>0.123181</td>\n",
       "    </tr>\n",
       "    <tr>\n",
       "      <th>2</th>\n",
       "      <td>150</td>\n",
       "      <td>0.25</td>\n",
       "      <td>0.25</td>\n",
       "      <td>-0.615906</td>\n",
       "      <td>-0.615906</td>\n",
       "    </tr>\n",
       "    <tr>\n",
       "      <th>3</th>\n",
       "      <td>300</td>\n",
       "      <td>1.00</td>\n",
       "      <td>1.00</td>\n",
       "      <td>1.601354</td>\n",
       "      <td>1.601354</td>\n",
       "    </tr>\n",
       "    <tr>\n",
       "      <th>4</th>\n",
       "      <td>180</td>\n",
       "      <td>0.40</td>\n",
       "      <td>0.40</td>\n",
       "      <td>-0.172454</td>\n",
       "      <td>-0.172454</td>\n",
       "    </tr>\n",
       "    <tr>\n",
       "      <th>5</th>\n",
       "      <td>220</td>\n",
       "      <td>0.60</td>\n",
       "      <td>0.60</td>\n",
       "      <td>0.418816</td>\n",
       "      <td>0.418816</td>\n",
       "    </tr>\n",
       "  </tbody>\n",
       "</table>\n",
       "</div>"
      ],
      "text/plain": [
       "   cost  cost_norm_formula  cost_norm_sklearn  cost_std_manual  \\\n",
       "0   100               0.00               0.00        -1.354992   \n",
       "1   200               0.50               0.50         0.123181   \n",
       "2   150               0.25               0.25        -0.615906   \n",
       "3   300               1.00               1.00         1.601354   \n",
       "4   180               0.40               0.40        -0.172454   \n",
       "5   220               0.60               0.60         0.418816   \n",
       "\n",
       "   cost_std_manual2  \n",
       "0         -1.354992  \n",
       "1          0.123181  \n",
       "2         -0.615906  \n",
       "3          1.601354  \n",
       "4         -0.172454  \n",
       "5          0.418816  "
      ]
     },
     "execution_count": 116,
     "metadata": {},
     "output_type": "execute_result"
    }
   ],
   "source": [
    "df"
   ]
  },
  {
   "cell_type": "code",
   "execution_count": 117,
   "id": "6429e96f-e174-4887-b544-332d555b4040",
   "metadata": {},
   "outputs": [],
   "source": [
    "df[\"cost_std_manual3\"]=(df[\"cost\"]-mean_cost) /Std_dof"
   ]
  },
  {
   "cell_type": "code",
   "execution_count": 118,
   "id": "bf2e8b24-e6e9-4581-8e35-df79c40e1636",
   "metadata": {},
   "outputs": [
    {
     "data": {
      "text/html": [
       "<div>\n",
       "<style scoped>\n",
       "    .dataframe tbody tr th:only-of-type {\n",
       "        vertical-align: middle;\n",
       "    }\n",
       "\n",
       "    .dataframe tbody tr th {\n",
       "        vertical-align: top;\n",
       "    }\n",
       "\n",
       "    .dataframe thead th {\n",
       "        text-align: right;\n",
       "    }\n",
       "</style>\n",
       "<table border=\"1\" class=\"dataframe\">\n",
       "  <thead>\n",
       "    <tr style=\"text-align: right;\">\n",
       "      <th></th>\n",
       "      <th>cost</th>\n",
       "      <th>cost_norm_formula</th>\n",
       "      <th>cost_norm_sklearn</th>\n",
       "      <th>cost_std_manual</th>\n",
       "      <th>cost_std_manual2</th>\n",
       "      <th>cost_std_manual3</th>\n",
       "    </tr>\n",
       "  </thead>\n",
       "  <tbody>\n",
       "    <tr>\n",
       "      <th>0</th>\n",
       "      <td>100</td>\n",
       "      <td>0.00</td>\n",
       "      <td>0.00</td>\n",
       "      <td>-1.354992</td>\n",
       "      <td>-1.354992</td>\n",
       "      <td>-1.484320</td>\n",
       "    </tr>\n",
       "    <tr>\n",
       "      <th>1</th>\n",
       "      <td>200</td>\n",
       "      <td>0.50</td>\n",
       "      <td>0.50</td>\n",
       "      <td>0.123181</td>\n",
       "      <td>0.123181</td>\n",
       "      <td>0.134938</td>\n",
       "    </tr>\n",
       "    <tr>\n",
       "      <th>2</th>\n",
       "      <td>150</td>\n",
       "      <td>0.25</td>\n",
       "      <td>0.25</td>\n",
       "      <td>-0.615906</td>\n",
       "      <td>-0.615906</td>\n",
       "      <td>-0.674691</td>\n",
       "    </tr>\n",
       "    <tr>\n",
       "      <th>3</th>\n",
       "      <td>300</td>\n",
       "      <td>1.00</td>\n",
       "      <td>1.00</td>\n",
       "      <td>1.601354</td>\n",
       "      <td>1.601354</td>\n",
       "      <td>1.754196</td>\n",
       "    </tr>\n",
       "    <tr>\n",
       "      <th>4</th>\n",
       "      <td>180</td>\n",
       "      <td>0.40</td>\n",
       "      <td>0.40</td>\n",
       "      <td>-0.172454</td>\n",
       "      <td>-0.172454</td>\n",
       "      <td>-0.188913</td>\n",
       "    </tr>\n",
       "    <tr>\n",
       "      <th>5</th>\n",
       "      <td>220</td>\n",
       "      <td>0.60</td>\n",
       "      <td>0.60</td>\n",
       "      <td>0.418816</td>\n",
       "      <td>0.418816</td>\n",
       "      <td>0.458790</td>\n",
       "    </tr>\n",
       "  </tbody>\n",
       "</table>\n",
       "</div>"
      ],
      "text/plain": [
       "   cost  cost_norm_formula  cost_norm_sklearn  cost_std_manual  \\\n",
       "0   100               0.00               0.00        -1.354992   \n",
       "1   200               0.50               0.50         0.123181   \n",
       "2   150               0.25               0.25        -0.615906   \n",
       "3   300               1.00               1.00         1.601354   \n",
       "4   180               0.40               0.40        -0.172454   \n",
       "5   220               0.60               0.60         0.418816   \n",
       "\n",
       "   cost_std_manual2  cost_std_manual3  \n",
       "0         -1.354992         -1.484320  \n",
       "1          0.123181          0.134938  \n",
       "2         -0.615906         -0.674691  \n",
       "3          1.601354          1.754196  \n",
       "4         -0.172454         -0.188913  \n",
       "5          0.418816          0.458790  "
      ]
     },
     "execution_count": 118,
     "metadata": {},
     "output_type": "execute_result"
    }
   ],
   "source": [
    "df"
   ]
  },
  {
   "cell_type": "code",
   "execution_count": 119,
   "id": "8be89a33-abd1-43ed-bc1f-f50933294a77",
   "metadata": {},
   "outputs": [],
   "source": [
    "#log Transformation"
   ]
  },
  {
   "cell_type": "code",
   "execution_count": 120,
   "id": "b78f0ef0-c647-4340-a832-1222fa80d1a6",
   "metadata": {},
   "outputs": [],
   "source": [
    "from sklearn.preprocessing import FunctionTransformer\n",
    "import numpy as np"
   ]
  },
  {
   "cell_type": "code",
   "execution_count": 121,
   "id": "d588f081-d57e-4c8e-a583-2092047b77f0",
   "metadata": {},
   "outputs": [
    {
     "data": {
      "text/html": [
       "<div>\n",
       "<style scoped>\n",
       "    .dataframe tbody tr th:only-of-type {\n",
       "        vertical-align: middle;\n",
       "    }\n",
       "\n",
       "    .dataframe tbody tr th {\n",
       "        vertical-align: top;\n",
       "    }\n",
       "\n",
       "    .dataframe thead th {\n",
       "        text-align: right;\n",
       "    }\n",
       "</style>\n",
       "<table border=\"1\" class=\"dataframe\">\n",
       "  <thead>\n",
       "    <tr style=\"text-align: right;\">\n",
       "      <th></th>\n",
       "      <th>cost</th>\n",
       "      <th>cost_norm_formula</th>\n",
       "      <th>cost_norm_sklearn</th>\n",
       "      <th>cost_std_manual</th>\n",
       "      <th>cost_std_manual2</th>\n",
       "      <th>cost_std_manual3</th>\n",
       "      <th>cost_fc</th>\n",
       "    </tr>\n",
       "  </thead>\n",
       "  <tbody>\n",
       "    <tr>\n",
       "      <th>0</th>\n",
       "      <td>100</td>\n",
       "      <td>0.00</td>\n",
       "      <td>0.00</td>\n",
       "      <td>-1.354992</td>\n",
       "      <td>-1.354992</td>\n",
       "      <td>-1.484320</td>\n",
       "      <td>4.615121</td>\n",
       "    </tr>\n",
       "    <tr>\n",
       "      <th>1</th>\n",
       "      <td>200</td>\n",
       "      <td>0.50</td>\n",
       "      <td>0.50</td>\n",
       "      <td>0.123181</td>\n",
       "      <td>0.123181</td>\n",
       "      <td>0.134938</td>\n",
       "      <td>5.303305</td>\n",
       "    </tr>\n",
       "    <tr>\n",
       "      <th>2</th>\n",
       "      <td>150</td>\n",
       "      <td>0.25</td>\n",
       "      <td>0.25</td>\n",
       "      <td>-0.615906</td>\n",
       "      <td>-0.615906</td>\n",
       "      <td>-0.674691</td>\n",
       "      <td>5.017280</td>\n",
       "    </tr>\n",
       "    <tr>\n",
       "      <th>3</th>\n",
       "      <td>300</td>\n",
       "      <td>1.00</td>\n",
       "      <td>1.00</td>\n",
       "      <td>1.601354</td>\n",
       "      <td>1.601354</td>\n",
       "      <td>1.754196</td>\n",
       "      <td>5.707110</td>\n",
       "    </tr>\n",
       "    <tr>\n",
       "      <th>4</th>\n",
       "      <td>180</td>\n",
       "      <td>0.40</td>\n",
       "      <td>0.40</td>\n",
       "      <td>-0.172454</td>\n",
       "      <td>-0.172454</td>\n",
       "      <td>-0.188913</td>\n",
       "      <td>5.198497</td>\n",
       "    </tr>\n",
       "    <tr>\n",
       "      <th>5</th>\n",
       "      <td>220</td>\n",
       "      <td>0.60</td>\n",
       "      <td>0.60</td>\n",
       "      <td>0.418816</td>\n",
       "      <td>0.418816</td>\n",
       "      <td>0.458790</td>\n",
       "      <td>5.398163</td>\n",
       "    </tr>\n",
       "  </tbody>\n",
       "</table>\n",
       "</div>"
      ],
      "text/plain": [
       "   cost  cost_norm_formula  cost_norm_sklearn  cost_std_manual  \\\n",
       "0   100               0.00               0.00        -1.354992   \n",
       "1   200               0.50               0.50         0.123181   \n",
       "2   150               0.25               0.25        -0.615906   \n",
       "3   300               1.00               1.00         1.601354   \n",
       "4   180               0.40               0.40        -0.172454   \n",
       "5   220               0.60               0.60         0.418816   \n",
       "\n",
       "   cost_std_manual2  cost_std_manual3   cost_fc  \n",
       "0         -1.354992         -1.484320  4.615121  \n",
       "1          0.123181          0.134938  5.303305  \n",
       "2         -0.615906         -0.674691  5.017280  \n",
       "3          1.601354          1.754196  5.707110  \n",
       "4         -0.172454         -0.188913  5.198497  \n",
       "5          0.418816          0.458790  5.398163  "
      ]
     },
     "execution_count": 121,
     "metadata": {},
     "output_type": "execute_result"
    }
   ],
   "source": [
    "fc=FunctionTransformer(np.log1p)\n",
    "df['cost_fc']=fc.fit_transform(df[['cost']])\n",
    "df"
   ]
  },
  {
   "cell_type": "code",
   "execution_count": 122,
   "id": "d90072c4-445a-40d4-9beb-1b48c117c71b",
   "metadata": {},
   "outputs": [],
   "source": [
    "df['fc_np']=np.log1p(df[['cost']]) #another"
   ]
  },
  {
   "cell_type": "code",
   "execution_count": 123,
   "id": "c135c5e3-50ff-4662-a12a-230a889fa58e",
   "metadata": {},
   "outputs": [
    {
     "data": {
      "text/html": [
       "<div>\n",
       "<style scoped>\n",
       "    .dataframe tbody tr th:only-of-type {\n",
       "        vertical-align: middle;\n",
       "    }\n",
       "\n",
       "    .dataframe tbody tr th {\n",
       "        vertical-align: top;\n",
       "    }\n",
       "\n",
       "    .dataframe thead th {\n",
       "        text-align: right;\n",
       "    }\n",
       "</style>\n",
       "<table border=\"1\" class=\"dataframe\">\n",
       "  <thead>\n",
       "    <tr style=\"text-align: right;\">\n",
       "      <th></th>\n",
       "      <th>cost</th>\n",
       "      <th>cost_norm_formula</th>\n",
       "      <th>cost_norm_sklearn</th>\n",
       "      <th>cost_std_manual</th>\n",
       "      <th>cost_std_manual2</th>\n",
       "      <th>cost_std_manual3</th>\n",
       "      <th>cost_fc</th>\n",
       "      <th>fc_np</th>\n",
       "    </tr>\n",
       "  </thead>\n",
       "  <tbody>\n",
       "    <tr>\n",
       "      <th>0</th>\n",
       "      <td>100</td>\n",
       "      <td>0.00</td>\n",
       "      <td>0.00</td>\n",
       "      <td>-1.354992</td>\n",
       "      <td>-1.354992</td>\n",
       "      <td>-1.484320</td>\n",
       "      <td>4.615121</td>\n",
       "      <td>4.615121</td>\n",
       "    </tr>\n",
       "    <tr>\n",
       "      <th>1</th>\n",
       "      <td>200</td>\n",
       "      <td>0.50</td>\n",
       "      <td>0.50</td>\n",
       "      <td>0.123181</td>\n",
       "      <td>0.123181</td>\n",
       "      <td>0.134938</td>\n",
       "      <td>5.303305</td>\n",
       "      <td>5.303305</td>\n",
       "    </tr>\n",
       "    <tr>\n",
       "      <th>2</th>\n",
       "      <td>150</td>\n",
       "      <td>0.25</td>\n",
       "      <td>0.25</td>\n",
       "      <td>-0.615906</td>\n",
       "      <td>-0.615906</td>\n",
       "      <td>-0.674691</td>\n",
       "      <td>5.017280</td>\n",
       "      <td>5.017280</td>\n",
       "    </tr>\n",
       "    <tr>\n",
       "      <th>3</th>\n",
       "      <td>300</td>\n",
       "      <td>1.00</td>\n",
       "      <td>1.00</td>\n",
       "      <td>1.601354</td>\n",
       "      <td>1.601354</td>\n",
       "      <td>1.754196</td>\n",
       "      <td>5.707110</td>\n",
       "      <td>5.707110</td>\n",
       "    </tr>\n",
       "    <tr>\n",
       "      <th>4</th>\n",
       "      <td>180</td>\n",
       "      <td>0.40</td>\n",
       "      <td>0.40</td>\n",
       "      <td>-0.172454</td>\n",
       "      <td>-0.172454</td>\n",
       "      <td>-0.188913</td>\n",
       "      <td>5.198497</td>\n",
       "      <td>5.198497</td>\n",
       "    </tr>\n",
       "    <tr>\n",
       "      <th>5</th>\n",
       "      <td>220</td>\n",
       "      <td>0.60</td>\n",
       "      <td>0.60</td>\n",
       "      <td>0.418816</td>\n",
       "      <td>0.418816</td>\n",
       "      <td>0.458790</td>\n",
       "      <td>5.398163</td>\n",
       "      <td>5.398163</td>\n",
       "    </tr>\n",
       "  </tbody>\n",
       "</table>\n",
       "</div>"
      ],
      "text/plain": [
       "   cost  cost_norm_formula  cost_norm_sklearn  cost_std_manual  \\\n",
       "0   100               0.00               0.00        -1.354992   \n",
       "1   200               0.50               0.50         0.123181   \n",
       "2   150               0.25               0.25        -0.615906   \n",
       "3   300               1.00               1.00         1.601354   \n",
       "4   180               0.40               0.40        -0.172454   \n",
       "5   220               0.60               0.60         0.418816   \n",
       "\n",
       "   cost_std_manual2  cost_std_manual3   cost_fc     fc_np  \n",
       "0         -1.354992         -1.484320  4.615121  4.615121  \n",
       "1          0.123181          0.134938  5.303305  5.303305  \n",
       "2         -0.615906         -0.674691  5.017280  5.017280  \n",
       "3          1.601354          1.754196  5.707110  5.707110  \n",
       "4         -0.172454         -0.188913  5.198497  5.198497  \n",
       "5          0.418816          0.458790  5.398163  5.398163  "
      ]
     },
     "execution_count": 123,
     "metadata": {},
     "output_type": "execute_result"
    }
   ],
   "source": [
    "df"
   ]
  },
  {
   "cell_type": "code",
   "execution_count": 124,
   "id": "7051d9f3-b22a-4341-99cf-fede347ab8de",
   "metadata": {},
   "outputs": [],
   "source": [
    "#robust scler"
   ]
  },
  {
   "cell_type": "code",
   "execution_count": 125,
   "id": "e85242ee-bb0d-46c6-89fd-bc40f08da0e9",
   "metadata": {},
   "outputs": [
    {
     "data": {
      "text/plain": [
       "array([[ 0. , -2. ,  0. ],\n",
       "       [-1. ,  0. ,  0.4],\n",
       "       [ 1. ,  0. , -1.6]])"
      ]
     },
     "execution_count": 125,
     "metadata": {},
     "output_type": "execute_result"
    }
   ],
   "source": [
    "from sklearn.preprocessing import RobustScaler\n",
    "X = [[ 1., -2.,  2.],\n",
    "     [ -2.,  1.,  3.],\n",
    "     [ 4.,  1., -2.]]\n",
    "transformer = RobustScaler().fit(X)\n",
    "transformer\n",
    "RobustScaler()\n",
    "transformer.transform(X)\n"
   ]
  },
  {
   "cell_type": "code",
   "execution_count": 126,
   "id": "40536781-2c16-433e-bfb4-4057b5397dbc",
   "metadata": {},
   "outputs": [],
   "source": [
    "#MAax abs Scaler"
   ]
  },
  {
   "cell_type": "code",
   "execution_count": 127,
   "id": "54aca8e6-62a3-4297-82ec-9981e90807d4",
   "metadata": {},
   "outputs": [],
   "source": [
    "from sklearn.preprocessing import MaxAbsScaler"
   ]
  },
  {
   "cell_type": "code",
   "execution_count": 128,
   "id": "390d095f-ac5a-4c20-b7fa-a338891a4b64",
   "metadata": {},
   "outputs": [],
   "source": [
    "mmx=MaxAbsScaler()"
   ]
  },
  {
   "cell_type": "code",
   "execution_count": 129,
   "id": "e8dd8a9d-430e-4c5f-b2a0-4dbe0e2bc4f8",
   "metadata": {},
   "outputs": [],
   "source": [
    "df[\"mmx_abs\"]=mmx.fit_transform(df[['cost']])"
   ]
  },
  {
   "cell_type": "code",
   "execution_count": 130,
   "id": "5b4ae709-c526-447c-9863-af56a0b9fe30",
   "metadata": {},
   "outputs": [
    {
     "data": {
      "text/html": [
       "<div>\n",
       "<style scoped>\n",
       "    .dataframe tbody tr th:only-of-type {\n",
       "        vertical-align: middle;\n",
       "    }\n",
       "\n",
       "    .dataframe tbody tr th {\n",
       "        vertical-align: top;\n",
       "    }\n",
       "\n",
       "    .dataframe thead th {\n",
       "        text-align: right;\n",
       "    }\n",
       "</style>\n",
       "<table border=\"1\" class=\"dataframe\">\n",
       "  <thead>\n",
       "    <tr style=\"text-align: right;\">\n",
       "      <th></th>\n",
       "      <th>cost</th>\n",
       "      <th>cost_norm_formula</th>\n",
       "      <th>cost_norm_sklearn</th>\n",
       "      <th>cost_std_manual</th>\n",
       "      <th>cost_std_manual2</th>\n",
       "      <th>cost_std_manual3</th>\n",
       "      <th>cost_fc</th>\n",
       "      <th>fc_np</th>\n",
       "      <th>mmx_abs</th>\n",
       "    </tr>\n",
       "  </thead>\n",
       "  <tbody>\n",
       "    <tr>\n",
       "      <th>0</th>\n",
       "      <td>100</td>\n",
       "      <td>0.00</td>\n",
       "      <td>0.00</td>\n",
       "      <td>-1.354992</td>\n",
       "      <td>-1.354992</td>\n",
       "      <td>-1.484320</td>\n",
       "      <td>4.615121</td>\n",
       "      <td>4.615121</td>\n",
       "      <td>0.333333</td>\n",
       "    </tr>\n",
       "    <tr>\n",
       "      <th>1</th>\n",
       "      <td>200</td>\n",
       "      <td>0.50</td>\n",
       "      <td>0.50</td>\n",
       "      <td>0.123181</td>\n",
       "      <td>0.123181</td>\n",
       "      <td>0.134938</td>\n",
       "      <td>5.303305</td>\n",
       "      <td>5.303305</td>\n",
       "      <td>0.666667</td>\n",
       "    </tr>\n",
       "    <tr>\n",
       "      <th>2</th>\n",
       "      <td>150</td>\n",
       "      <td>0.25</td>\n",
       "      <td>0.25</td>\n",
       "      <td>-0.615906</td>\n",
       "      <td>-0.615906</td>\n",
       "      <td>-0.674691</td>\n",
       "      <td>5.017280</td>\n",
       "      <td>5.017280</td>\n",
       "      <td>0.500000</td>\n",
       "    </tr>\n",
       "    <tr>\n",
       "      <th>3</th>\n",
       "      <td>300</td>\n",
       "      <td>1.00</td>\n",
       "      <td>1.00</td>\n",
       "      <td>1.601354</td>\n",
       "      <td>1.601354</td>\n",
       "      <td>1.754196</td>\n",
       "      <td>5.707110</td>\n",
       "      <td>5.707110</td>\n",
       "      <td>1.000000</td>\n",
       "    </tr>\n",
       "    <tr>\n",
       "      <th>4</th>\n",
       "      <td>180</td>\n",
       "      <td>0.40</td>\n",
       "      <td>0.40</td>\n",
       "      <td>-0.172454</td>\n",
       "      <td>-0.172454</td>\n",
       "      <td>-0.188913</td>\n",
       "      <td>5.198497</td>\n",
       "      <td>5.198497</td>\n",
       "      <td>0.600000</td>\n",
       "    </tr>\n",
       "    <tr>\n",
       "      <th>5</th>\n",
       "      <td>220</td>\n",
       "      <td>0.60</td>\n",
       "      <td>0.60</td>\n",
       "      <td>0.418816</td>\n",
       "      <td>0.418816</td>\n",
       "      <td>0.458790</td>\n",
       "      <td>5.398163</td>\n",
       "      <td>5.398163</td>\n",
       "      <td>0.733333</td>\n",
       "    </tr>\n",
       "  </tbody>\n",
       "</table>\n",
       "</div>"
      ],
      "text/plain": [
       "   cost  cost_norm_formula  cost_norm_sklearn  cost_std_manual  \\\n",
       "0   100               0.00               0.00        -1.354992   \n",
       "1   200               0.50               0.50         0.123181   \n",
       "2   150               0.25               0.25        -0.615906   \n",
       "3   300               1.00               1.00         1.601354   \n",
       "4   180               0.40               0.40        -0.172454   \n",
       "5   220               0.60               0.60         0.418816   \n",
       "\n",
       "   cost_std_manual2  cost_std_manual3   cost_fc     fc_np   mmx_abs  \n",
       "0         -1.354992         -1.484320  4.615121  4.615121  0.333333  \n",
       "1          0.123181          0.134938  5.303305  5.303305  0.666667  \n",
       "2         -0.615906         -0.674691  5.017280  5.017280  0.500000  \n",
       "3          1.601354          1.754196  5.707110  5.707110  1.000000  \n",
       "4         -0.172454         -0.188913  5.198497  5.198497  0.600000  \n",
       "5          0.418816          0.458790  5.398163  5.398163  0.733333  "
      ]
     },
     "execution_count": 130,
     "metadata": {},
     "output_type": "execute_result"
    }
   ],
   "source": [
    "df"
   ]
  },
  {
   "cell_type": "code",
   "execution_count": 131,
   "id": "f29d9822-5dc9-4309-88da-c35f141c2c75",
   "metadata": {},
   "outputs": [],
   "source": [
    "#power Transformer(box Cox)"
   ]
  },
  {
   "cell_type": "code",
   "execution_count": 132,
   "id": "42ae878a-cd14-4b55-a52b-b8f578d2efb7",
   "metadata": {},
   "outputs": [],
   "source": [
    "from scipy.stats import boxcox\n",
    "df['box cox'],_=boxcox(df[\"cost\"]+1)"
   ]
  },
  {
   "cell_type": "code",
   "execution_count": 133,
   "id": "c36a6eea-cec8-48ef-adaf-ee295bdf2d52",
   "metadata": {},
   "outputs": [
    {
     "data": {
      "text/html": [
       "<div>\n",
       "<style scoped>\n",
       "    .dataframe tbody tr th:only-of-type {\n",
       "        vertical-align: middle;\n",
       "    }\n",
       "\n",
       "    .dataframe tbody tr th {\n",
       "        vertical-align: top;\n",
       "    }\n",
       "\n",
       "    .dataframe thead th {\n",
       "        text-align: right;\n",
       "    }\n",
       "</style>\n",
       "<table border=\"1\" class=\"dataframe\">\n",
       "  <thead>\n",
       "    <tr style=\"text-align: right;\">\n",
       "      <th></th>\n",
       "      <th>cost</th>\n",
       "      <th>cost_norm_formula</th>\n",
       "      <th>cost_norm_sklearn</th>\n",
       "      <th>cost_std_manual</th>\n",
       "      <th>cost_std_manual2</th>\n",
       "      <th>cost_std_manual3</th>\n",
       "      <th>cost_fc</th>\n",
       "      <th>fc_np</th>\n",
       "      <th>mmx_abs</th>\n",
       "      <th>box cox</th>\n",
       "    </tr>\n",
       "  </thead>\n",
       "  <tbody>\n",
       "    <tr>\n",
       "      <th>0</th>\n",
       "      <td>100</td>\n",
       "      <td>0.00</td>\n",
       "      <td>0.00</td>\n",
       "      <td>-1.354992</td>\n",
       "      <td>-1.354992</td>\n",
       "      <td>-1.484320</td>\n",
       "      <td>4.615121</td>\n",
       "      <td>4.615121</td>\n",
       "      <td>0.333333</td>\n",
       "      <td>16.402632</td>\n",
       "    </tr>\n",
       "    <tr>\n",
       "      <th>1</th>\n",
       "      <td>200</td>\n",
       "      <td>0.50</td>\n",
       "      <td>0.50</td>\n",
       "      <td>0.123181</td>\n",
       "      <td>0.123181</td>\n",
       "      <td>0.134938</td>\n",
       "      <td>5.303305</td>\n",
       "      <td>5.303305</td>\n",
       "      <td>0.666667</td>\n",
       "      <td>23.451536</td>\n",
       "    </tr>\n",
       "    <tr>\n",
       "      <th>2</th>\n",
       "      <td>150</td>\n",
       "      <td>0.25</td>\n",
       "      <td>0.25</td>\n",
       "      <td>-0.615906</td>\n",
       "      <td>-0.615906</td>\n",
       "      <td>-0.674691</td>\n",
       "      <td>5.017280</td>\n",
       "      <td>5.017280</td>\n",
       "      <td>0.500000</td>\n",
       "      <td>20.244079</td>\n",
       "    </tr>\n",
       "    <tr>\n",
       "      <th>3</th>\n",
       "      <td>300</td>\n",
       "      <td>1.00</td>\n",
       "      <td>1.00</td>\n",
       "      <td>1.601354</td>\n",
       "      <td>1.601354</td>\n",
       "      <td>1.754196</td>\n",
       "      <td>5.707110</td>\n",
       "      <td>5.707110</td>\n",
       "      <td>1.000000</td>\n",
       "      <td>28.777463</td>\n",
       "    </tr>\n",
       "    <tr>\n",
       "      <th>4</th>\n",
       "      <td>180</td>\n",
       "      <td>0.40</td>\n",
       "      <td>0.40</td>\n",
       "      <td>-0.172454</td>\n",
       "      <td>-0.172454</td>\n",
       "      <td>-0.188913</td>\n",
       "      <td>5.198497</td>\n",
       "      <td>5.198497</td>\n",
       "      <td>0.600000</td>\n",
       "      <td>22.226083</td>\n",
       "    </tr>\n",
       "    <tr>\n",
       "      <th>5</th>\n",
       "      <td>220</td>\n",
       "      <td>0.60</td>\n",
       "      <td>0.60</td>\n",
       "      <td>0.418816</td>\n",
       "      <td>0.418816</td>\n",
       "      <td>0.458790</td>\n",
       "      <td>5.398163</td>\n",
       "      <td>5.398163</td>\n",
       "      <td>0.733333</td>\n",
       "      <td>24.613707</td>\n",
       "    </tr>\n",
       "  </tbody>\n",
       "</table>\n",
       "</div>"
      ],
      "text/plain": [
       "   cost  cost_norm_formula  cost_norm_sklearn  cost_std_manual  \\\n",
       "0   100               0.00               0.00        -1.354992   \n",
       "1   200               0.50               0.50         0.123181   \n",
       "2   150               0.25               0.25        -0.615906   \n",
       "3   300               1.00               1.00         1.601354   \n",
       "4   180               0.40               0.40        -0.172454   \n",
       "5   220               0.60               0.60         0.418816   \n",
       "\n",
       "   cost_std_manual2  cost_std_manual3   cost_fc     fc_np   mmx_abs    box cox  \n",
       "0         -1.354992         -1.484320  4.615121  4.615121  0.333333  16.402632  \n",
       "1          0.123181          0.134938  5.303305  5.303305  0.666667  23.451536  \n",
       "2         -0.615906         -0.674691  5.017280  5.017280  0.500000  20.244079  \n",
       "3          1.601354          1.754196  5.707110  5.707110  1.000000  28.777463  \n",
       "4         -0.172454         -0.188913  5.198497  5.198497  0.600000  22.226083  \n",
       "5          0.418816          0.458790  5.398163  5.398163  0.733333  24.613707  "
      ]
     },
     "execution_count": 133,
     "metadata": {},
     "output_type": "execute_result"
    }
   ],
   "source": [
    "df"
   ]
  },
  {
   "cell_type": "code",
   "execution_count": 136,
   "id": "29d2e02f-02c3-4e23-896a-2c30e9008df1",
   "metadata": {},
   "outputs": [
    {
     "data": {
      "text/plain": [
       "1.2027416100105862e-16"
      ]
     },
     "execution_count": 136,
     "metadata": {},
     "output_type": "execute_result"
    }
   ],
   "source": [
    "df.cost_std_manual.mean()"
   ]
  },
  {
   "cell_type": "code",
   "execution_count": 137,
   "id": "59a13307-f487-4c83-8fd8-68d43c4006d5",
   "metadata": {},
   "outputs": [
    {
     "data": {
      "text/plain": [
       "1.0000000000000002"
      ]
     },
     "execution_count": 137,
     "metadata": {},
     "output_type": "execute_result"
    }
   ],
   "source": [
    "df.cost_std_manual.mean()+1"
   ]
  },
  {
   "cell_type": "code",
   "execution_count": 138,
   "id": "2c1f509d-8f9f-4aac-84af-96b5ea2defde",
   "metadata": {},
   "outputs": [
    {
     "data": {
      "text/plain": [
       "1.0"
      ]
     },
     "execution_count": 138,
     "metadata": {},
     "output_type": "execute_result"
    }
   ],
   "source": [
    "df.cost_std_manual2.std()"
   ]
  },
  {
   "cell_type": "code",
   "execution_count": null,
   "id": "e86be41e-754e-409e-bdc8-79cf5e658a79",
   "metadata": {},
   "outputs": [],
   "source": []
  }
 ],
 "metadata": {
  "kernelspec": {
   "display_name": "Python 3 (ipykernel)",
   "language": "python",
   "name": "python3"
  },
  "language_info": {
   "codemirror_mode": {
    "name": "ipython",
    "version": 3
   },
   "file_extension": ".py",
   "mimetype": "text/x-python",
   "name": "python",
   "nbconvert_exporter": "python",
   "pygments_lexer": "ipython3",
   "version": "3.12.4"
  }
 },
 "nbformat": 4,
 "nbformat_minor": 5
}
